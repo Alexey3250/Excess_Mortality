{
  "nbformat": 4,
  "nbformat_minor": 0,
  "metadata": {
    "colab": {
      "name": "Python for data science Functions .ipynb",
      "provenance": [],
      "authorship_tag": "ABX9TyPNXBT5i4WertP4MLZh7P0y",
      "include_colab_link": true
    },
    "kernelspec": {
      "name": "python3",
      "display_name": "Python 3"
    },
    "language_info": {
      "name": "python"
    }
  },
  "cells": [
    {
      "cell_type": "markdown",
      "metadata": {
        "id": "view-in-github",
        "colab_type": "text"
      },
      "source": [
        "<a href=\"https://colab.research.google.com/github/Alexey3250/Excess_Mortality/blob/main/Python_for_data_science_Functions_.ipynb\" target=\"_parent\"><img src=\"https://colab.research.google.com/assets/colab-badge.svg\" alt=\"Open In Colab\"/></a>"
      ]
    },
    {
      "cell_type": "code",
      "execution_count": null,
      "metadata": {
        "colab": {
          "base_uri": "https://localhost:8080/"
        },
        "id": "bW7_CPnuE2Ra",
        "outputId": "e0fc99cc-be0f-4e2a-9fd6-f81136a130cd"
      },
      "outputs": [
        {
          "output_type": "stream",
          "name": "stdout",
          "text": [
            "a1\n",
            "b1\n",
            "c1\n"
          ]
        }
      ],
      "source": [
        "def Print(A):\n",
        "    for a in A:\n",
        "        print(a+'1')\n",
        "        \n",
        "Print(['a','b','c'])"
      ]
    },
    {
      "cell_type": "code",
      "source": [
        "L=[1,3,2]\n",
        "\n",
        "sorted(L)\n",
        "#returns a new list, hovewer does not change the L list"
      ],
      "metadata": {
        "colab": {
          "base_uri": "https://localhost:8080/"
        },
        "id": "ia1mowS0Pgq2",
        "outputId": "66bc3507-58fe-440f-eb80-e8d111316a40"
      },
      "execution_count": 1,
      "outputs": [
        {
          "output_type": "execute_result",
          "data": {
            "text/plain": [
              "[1, 2, 3]"
            ]
          },
          "metadata": {},
          "execution_count": 1
        }
      ]
    },
    {
      "cell_type": "code",
      "source": [
        "def Print(A):   \n",
        "\n",
        " for a in A: \n",
        "\n",
        "    print(a+'1')\n",
        "\n",
        "Print(['a','b','c'])\n",
        "\n"
      ],
      "metadata": {
        "colab": {
          "base_uri": "https://localhost:8080/"
        },
        "id": "NQjMAbFBPrvO",
        "outputId": "874aea0d-26c3-4e6a-981f-8905723a29ec"
      },
      "execution_count": 3,
      "outputs": [
        {
          "output_type": "stream",
          "name": "stdout",
          "text": [
            "a1\n",
            "b1\n",
            "c1\n"
          ]
        }
      ]
    }
  ]
}